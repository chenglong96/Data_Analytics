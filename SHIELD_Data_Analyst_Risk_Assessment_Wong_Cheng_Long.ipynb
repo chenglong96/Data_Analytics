{
  "nbformat": 4,
  "nbformat_minor": 0,
  "metadata": {
    "colab": {
      "provenance": [],
      "toc_visible": true,
      "authorship_tag": "ABX9TyPQNQi/8SkiTT7fJvjtGIub",
      "include_colab_link": true
    },
    "kernelspec": {
      "name": "python3",
      "display_name": "Python 3"
    },
    "language_info": {
      "name": "python"
    }
  },
  "cells": [
    {
      "cell_type": "markdown",
      "metadata": {
        "id": "view-in-github",
        "colab_type": "text"
      },
      "source": [
        "<a href=\"https://colab.research.google.com/github/chenglong96/Data_Analytics/blob/main/SHIELD_Data_Analyst_Risk_Assessment_Wong_Cheng_Long.ipynb\" target=\"_parent\"><img src=\"https://colab.research.google.com/assets/colab-badge.svg\" alt=\"Open In Colab\"/></a>"
      ]
    },
    {
      "cell_type": "markdown",
      "source": [
        "#Part 1: SQL Exploration"
      ],
      "metadata": {
        "id": "3vhg_rdoAPi7"
      }
    },
    {
      "cell_type": "code",
      "source": [
        "#getting necessary packages in.\n",
        "import sqlite3\n",
        "import pandas as pd"
      ],
      "metadata": {
        "id": "0c2-hW0VTOrv"
      },
      "execution_count": 1,
      "outputs": []
    },
    {
      "cell_type": "code",
      "source": [
        "#loading the xlsx file in.\n",
        "df = pd.read_excel('/content/Data_Analyst__Risk__Assessment_Dataset.xlsx')"
      ],
      "metadata": {
        "id": "2buZv-L2Tuho"
      },
      "execution_count": 43,
      "outputs": []
    },
    {
      "cell_type": "code",
      "source": [
        "#creating a database called variants_data.db\n",
        "conn = sqlite3.connect('variants_data.db')"
      ],
      "metadata": {
        "id": "5GL0UfOzUyxl"
      },
      "execution_count": 42,
      "outputs": []
    },
    {
      "cell_type": "markdown",
      "source": [
        "## 1. DDL Statement"
      ],
      "metadata": {
        "id": "woDTFRXxYzWu"
      }
    },
    {
      "cell_type": "code",
      "source": [
        "#uploading the excel file data from panda into variants_data database\n",
        "df.to_sql('variants_data', conn, if_exists='replace', index=False)\n",
        "\n",
        "\n",
        "# the method used above is just to upload the excel file data into the SQL table which wipes anything that could be inside as it is replace.\n",
        "# if a CREATE TABLE statement is needed, it would be\n",
        "# CREATE TABLE variants_data (\n",
        "#     approximated_class_label TEXT,\n",
        "#     variant_001 TEXT,\n",
        "#     variant_002 TEXT,\n",
        "#     variant_003 TEXT,\n",
        "#     variant_004 TEXT,\n",
        "#     variant_005 TEXT )\n",
        "#     df.to_sql('variants_data', conn, if_exists='append', index=False)\n",
        "\n"
      ],
      "metadata": {
        "colab": {
          "base_uri": "https://localhost:8080/"
        },
        "id": "nT5EGEhpU83E",
        "outputId": "d3637bc7-9a35-4a73-b265-1dd73b7c7943"
      },
      "execution_count": 4,
      "outputs": [
        {
          "output_type": "execute_result",
          "data": {
            "text/plain": [
              "20000"
            ]
          },
          "metadata": {},
          "execution_count": 4
        }
      ]
    },
    {
      "cell_type": "code",
      "source": [
        "#just to double sql table is correct\n",
        "result = pd.read_sql(\"SELECT * FROM variants_data ;\", conn)\n",
        "display(result)"
      ],
      "metadata": {
        "colab": {
          "base_uri": "https://localhost:8080/",
          "height": 424
        },
        "id": "ga5YjIMxVOIp",
        "outputId": "511a6aa7-bc4c-4adc-a76e-c6af6213a5bb"
      },
      "execution_count": 5,
      "outputs": [
        {
          "output_type": "display_data",
          "data": {
            "text/plain": [
              "       approximated_class_label                       variant_001  \\\n",
              "0                             1  7499f6dbdcf58712791655103962b6aa   \n",
              "1                             2  6054e15aa9b321d4a3e85d8efe13e389   \n",
              "2                             3  746a2b6a889462f6e072987c4f7b329d   \n",
              "3                             4  e0fb38d20930b7a14073bab7941b0b9a   \n",
              "4                             5  ce026792ee8c346c07b2bd7af5ae86d2   \n",
              "...                         ...                               ...   \n",
              "19995                       432  9d402bf69977488d0524b938894b15b1   \n",
              "19996                       436  893f4d0b1df56ff4604e32be1a7c375a   \n",
              "19997                       437  57eca7812ab58865e02c2dee2b103c28   \n",
              "19998                       432  9d402bf69977488d0524b938894b15b1   \n",
              "19999                       438  c83a8e52fae47168770df04bca65da6a   \n",
              "\n",
              "                            variant_002                       variant_003  \\\n",
              "0      cf5d070f96d24792862f337f38f33aeb  c3a9d3629a8a5d86ad3d793cb3880697   \n",
              "1      c6056988a07601e89af40ad0a6daf846  409b77f91d88b045105704377db1fe80   \n",
              "2      d26d640c9c54de7c73da21c2caee1095  ffb3cfbc3a442f69ddd7359343515d9f   \n",
              "3      bbec406305f7b0e142cad11d306db9c3  ae24786bc2e2a5f7a251c1c17fdf1984   \n",
              "4      74ec997c07c0b6f67e947c116a2e2d31  90ccd7cb90ec0d0eaf0c3c46c0d367ae   \n",
              "...                                 ...                               ...   \n",
              "19995  54d86d67e462dfac9e4a8d2c93f794a1  f2111aab03c8962d37f8a34a6fa2c993   \n",
              "19996  6176558def7a6e5ec33ffdad1524df04  5f52a1222f3eb67707e0f2fdf671eefd   \n",
              "19997  d002cef3c120fbd388b656dd062cfeb2  7838d07accee40c1816a8260c2500ecb   \n",
              "19998  54d86d67e462dfac9e4a8d2c93f794a1  f2111aab03c8962d37f8a34a6fa2c993   \n",
              "19999  4d935978e6b84e93230c96c8ca8ed6d1  b81f33921051efa4ba7f4228967bc509   \n",
              "\n",
              "                            variant_004                       variant_005  \n",
              "0      a00de079aad3a5c6220e45110a2736dd  79a26a2b62e5281176956f38efdfae51  \n",
              "1      40e2ff83a5db00ec0a38ccffdd615728  1905e08ffac256f534675920298ceb6e  \n",
              "2      a307b705bf303ced4a19a8b2dd2ba045  681fe60c96a6df07a4060ebb255fd3b6  \n",
              "3      b8c28525333414f9e4f355a34d61e396  d744b9d53ca440fcf173e9f49ed197cf  \n",
              "4      14926aec87c43c17dd5b3c1e7286656e  7cc02af64c8c9f09b4a87f21a87ee72b  \n",
              "...                                 ...                               ...  \n",
              "19995  aafe1d0fa54b34bc869c3a521bd01345  5236d7ee5b164d7cbf9ef070c1c5bdfd  \n",
              "19996  9f07354eb04b87a32f84957d04ec6f44  6a8cb2f2870f453e6599f9fa0e1bf1fe  \n",
              "19997  8e5d6ba387ac34db8b3dab78db2cb5d8  30ae8f456299d5e409d4ba289a1e9979  \n",
              "19998  aafe1d0fa54b34bc869c3a521bd01345  9c72f05e432379c01c98e8c48818789b  \n",
              "19999  d71f151c6a3dcc1cb5b653de0142cc93  f6d59f5ebe253259ba34621fa3d9dd62  \n",
              "\n",
              "[20000 rows x 6 columns]"
            ],
            "text/html": [
              "\n",
              "  <div id=\"df-a02f65d4-89f2-4c5e-b84c-46e481479720\" class=\"colab-df-container\">\n",
              "    <div>\n",
              "<style scoped>\n",
              "    .dataframe tbody tr th:only-of-type {\n",
              "        vertical-align: middle;\n",
              "    }\n",
              "\n",
              "    .dataframe tbody tr th {\n",
              "        vertical-align: top;\n",
              "    }\n",
              "\n",
              "    .dataframe thead th {\n",
              "        text-align: right;\n",
              "    }\n",
              "</style>\n",
              "<table border=\"1\" class=\"dataframe\">\n",
              "  <thead>\n",
              "    <tr style=\"text-align: right;\">\n",
              "      <th></th>\n",
              "      <th>approximated_class_label</th>\n",
              "      <th>variant_001</th>\n",
              "      <th>variant_002</th>\n",
              "      <th>variant_003</th>\n",
              "      <th>variant_004</th>\n",
              "      <th>variant_005</th>\n",
              "    </tr>\n",
              "  </thead>\n",
              "  <tbody>\n",
              "    <tr>\n",
              "      <th>0</th>\n",
              "      <td>1</td>\n",
              "      <td>7499f6dbdcf58712791655103962b6aa</td>\n",
              "      <td>cf5d070f96d24792862f337f38f33aeb</td>\n",
              "      <td>c3a9d3629a8a5d86ad3d793cb3880697</td>\n",
              "      <td>a00de079aad3a5c6220e45110a2736dd</td>\n",
              "      <td>79a26a2b62e5281176956f38efdfae51</td>\n",
              "    </tr>\n",
              "    <tr>\n",
              "      <th>1</th>\n",
              "      <td>2</td>\n",
              "      <td>6054e15aa9b321d4a3e85d8efe13e389</td>\n",
              "      <td>c6056988a07601e89af40ad0a6daf846</td>\n",
              "      <td>409b77f91d88b045105704377db1fe80</td>\n",
              "      <td>40e2ff83a5db00ec0a38ccffdd615728</td>\n",
              "      <td>1905e08ffac256f534675920298ceb6e</td>\n",
              "    </tr>\n",
              "    <tr>\n",
              "      <th>2</th>\n",
              "      <td>3</td>\n",
              "      <td>746a2b6a889462f6e072987c4f7b329d</td>\n",
              "      <td>d26d640c9c54de7c73da21c2caee1095</td>\n",
              "      <td>ffb3cfbc3a442f69ddd7359343515d9f</td>\n",
              "      <td>a307b705bf303ced4a19a8b2dd2ba045</td>\n",
              "      <td>681fe60c96a6df07a4060ebb255fd3b6</td>\n",
              "    </tr>\n",
              "    <tr>\n",
              "      <th>3</th>\n",
              "      <td>4</td>\n",
              "      <td>e0fb38d20930b7a14073bab7941b0b9a</td>\n",
              "      <td>bbec406305f7b0e142cad11d306db9c3</td>\n",
              "      <td>ae24786bc2e2a5f7a251c1c17fdf1984</td>\n",
              "      <td>b8c28525333414f9e4f355a34d61e396</td>\n",
              "      <td>d744b9d53ca440fcf173e9f49ed197cf</td>\n",
              "    </tr>\n",
              "    <tr>\n",
              "      <th>4</th>\n",
              "      <td>5</td>\n",
              "      <td>ce026792ee8c346c07b2bd7af5ae86d2</td>\n",
              "      <td>74ec997c07c0b6f67e947c116a2e2d31</td>\n",
              "      <td>90ccd7cb90ec0d0eaf0c3c46c0d367ae</td>\n",
              "      <td>14926aec87c43c17dd5b3c1e7286656e</td>\n",
              "      <td>7cc02af64c8c9f09b4a87f21a87ee72b</td>\n",
              "    </tr>\n",
              "    <tr>\n",
              "      <th>...</th>\n",
              "      <td>...</td>\n",
              "      <td>...</td>\n",
              "      <td>...</td>\n",
              "      <td>...</td>\n",
              "      <td>...</td>\n",
              "      <td>...</td>\n",
              "    </tr>\n",
              "    <tr>\n",
              "      <th>19995</th>\n",
              "      <td>432</td>\n",
              "      <td>9d402bf69977488d0524b938894b15b1</td>\n",
              "      <td>54d86d67e462dfac9e4a8d2c93f794a1</td>\n",
              "      <td>f2111aab03c8962d37f8a34a6fa2c993</td>\n",
              "      <td>aafe1d0fa54b34bc869c3a521bd01345</td>\n",
              "      <td>5236d7ee5b164d7cbf9ef070c1c5bdfd</td>\n",
              "    </tr>\n",
              "    <tr>\n",
              "      <th>19996</th>\n",
              "      <td>436</td>\n",
              "      <td>893f4d0b1df56ff4604e32be1a7c375a</td>\n",
              "      <td>6176558def7a6e5ec33ffdad1524df04</td>\n",
              "      <td>5f52a1222f3eb67707e0f2fdf671eefd</td>\n",
              "      <td>9f07354eb04b87a32f84957d04ec6f44</td>\n",
              "      <td>6a8cb2f2870f453e6599f9fa0e1bf1fe</td>\n",
              "    </tr>\n",
              "    <tr>\n",
              "      <th>19997</th>\n",
              "      <td>437</td>\n",
              "      <td>57eca7812ab58865e02c2dee2b103c28</td>\n",
              "      <td>d002cef3c120fbd388b656dd062cfeb2</td>\n",
              "      <td>7838d07accee40c1816a8260c2500ecb</td>\n",
              "      <td>8e5d6ba387ac34db8b3dab78db2cb5d8</td>\n",
              "      <td>30ae8f456299d5e409d4ba289a1e9979</td>\n",
              "    </tr>\n",
              "    <tr>\n",
              "      <th>19998</th>\n",
              "      <td>432</td>\n",
              "      <td>9d402bf69977488d0524b938894b15b1</td>\n",
              "      <td>54d86d67e462dfac9e4a8d2c93f794a1</td>\n",
              "      <td>f2111aab03c8962d37f8a34a6fa2c993</td>\n",
              "      <td>aafe1d0fa54b34bc869c3a521bd01345</td>\n",
              "      <td>9c72f05e432379c01c98e8c48818789b</td>\n",
              "    </tr>\n",
              "    <tr>\n",
              "      <th>19999</th>\n",
              "      <td>438</td>\n",
              "      <td>c83a8e52fae47168770df04bca65da6a</td>\n",
              "      <td>4d935978e6b84e93230c96c8ca8ed6d1</td>\n",
              "      <td>b81f33921051efa4ba7f4228967bc509</td>\n",
              "      <td>d71f151c6a3dcc1cb5b653de0142cc93</td>\n",
              "      <td>f6d59f5ebe253259ba34621fa3d9dd62</td>\n",
              "    </tr>\n",
              "  </tbody>\n",
              "</table>\n",
              "<p>20000 rows × 6 columns</p>\n",
              "</div>\n",
              "    <div class=\"colab-df-buttons\">\n",
              "\n",
              "  <div class=\"colab-df-container\">\n",
              "    <button class=\"colab-df-convert\" onclick=\"convertToInteractive('df-a02f65d4-89f2-4c5e-b84c-46e481479720')\"\n",
              "            title=\"Convert this dataframe to an interactive table.\"\n",
              "            style=\"display:none;\">\n",
              "\n",
              "  <svg xmlns=\"http://www.w3.org/2000/svg\" height=\"24px\" viewBox=\"0 -960 960 960\">\n",
              "    <path d=\"M120-120v-720h720v720H120Zm60-500h600v-160H180v160Zm220 220h160v-160H400v160Zm0 220h160v-160H400v160ZM180-400h160v-160H180v160Zm440 0h160v-160H620v160ZM180-180h160v-160H180v160Zm440 0h160v-160H620v160Z\"/>\n",
              "  </svg>\n",
              "    </button>\n",
              "\n",
              "  <style>\n",
              "    .colab-df-container {\n",
              "      display:flex;\n",
              "      gap: 12px;\n",
              "    }\n",
              "\n",
              "    .colab-df-convert {\n",
              "      background-color: #E8F0FE;\n",
              "      border: none;\n",
              "      border-radius: 50%;\n",
              "      cursor: pointer;\n",
              "      display: none;\n",
              "      fill: #1967D2;\n",
              "      height: 32px;\n",
              "      padding: 0 0 0 0;\n",
              "      width: 32px;\n",
              "    }\n",
              "\n",
              "    .colab-df-convert:hover {\n",
              "      background-color: #E2EBFA;\n",
              "      box-shadow: 0px 1px 2px rgba(60, 64, 67, 0.3), 0px 1px 3px 1px rgba(60, 64, 67, 0.15);\n",
              "      fill: #174EA6;\n",
              "    }\n",
              "\n",
              "    .colab-df-buttons div {\n",
              "      margin-bottom: 4px;\n",
              "    }\n",
              "\n",
              "    [theme=dark] .colab-df-convert {\n",
              "      background-color: #3B4455;\n",
              "      fill: #D2E3FC;\n",
              "    }\n",
              "\n",
              "    [theme=dark] .colab-df-convert:hover {\n",
              "      background-color: #434B5C;\n",
              "      box-shadow: 0px 1px 3px 1px rgba(0, 0, 0, 0.15);\n",
              "      filter: drop-shadow(0px 1px 2px rgba(0, 0, 0, 0.3));\n",
              "      fill: #FFFFFF;\n",
              "    }\n",
              "  </style>\n",
              "\n",
              "    <script>\n",
              "      const buttonEl =\n",
              "        document.querySelector('#df-a02f65d4-89f2-4c5e-b84c-46e481479720 button.colab-df-convert');\n",
              "      buttonEl.style.display =\n",
              "        google.colab.kernel.accessAllowed ? 'block' : 'none';\n",
              "\n",
              "      async function convertToInteractive(key) {\n",
              "        const element = document.querySelector('#df-a02f65d4-89f2-4c5e-b84c-46e481479720');\n",
              "        const dataTable =\n",
              "          await google.colab.kernel.invokeFunction('convertToInteractive',\n",
              "                                                    [key], {});\n",
              "        if (!dataTable) return;\n",
              "\n",
              "        const docLinkHtml = 'Like what you see? Visit the ' +\n",
              "          '<a target=\"_blank\" href=https://colab.research.google.com/notebooks/data_table.ipynb>data table notebook</a>'\n",
              "          + ' to learn more about interactive tables.';\n",
              "        element.innerHTML = '';\n",
              "        dataTable['output_type'] = 'display_data';\n",
              "        await google.colab.output.renderOutput(dataTable, element);\n",
              "        const docLink = document.createElement('div');\n",
              "        docLink.innerHTML = docLinkHtml;\n",
              "        element.appendChild(docLink);\n",
              "      }\n",
              "    </script>\n",
              "  </div>\n",
              "\n",
              "\n",
              "    <div id=\"df-bf464840-f1da-427d-89ce-fa6f09aa1c88\">\n",
              "      <button class=\"colab-df-quickchart\" onclick=\"quickchart('df-bf464840-f1da-427d-89ce-fa6f09aa1c88')\"\n",
              "                title=\"Suggest charts\"\n",
              "                style=\"display:none;\">\n",
              "\n",
              "<svg xmlns=\"http://www.w3.org/2000/svg\" height=\"24px\"viewBox=\"0 0 24 24\"\n",
              "     width=\"24px\">\n",
              "    <g>\n",
              "        <path d=\"M19 3H5c-1.1 0-2 .9-2 2v14c0 1.1.9 2 2 2h14c1.1 0 2-.9 2-2V5c0-1.1-.9-2-2-2zM9 17H7v-7h2v7zm4 0h-2V7h2v10zm4 0h-2v-4h2v4z\"/>\n",
              "    </g>\n",
              "</svg>\n",
              "      </button>\n",
              "\n",
              "<style>\n",
              "  .colab-df-quickchart {\n",
              "      --bg-color: #E8F0FE;\n",
              "      --fill-color: #1967D2;\n",
              "      --hover-bg-color: #E2EBFA;\n",
              "      --hover-fill-color: #174EA6;\n",
              "      --disabled-fill-color: #AAA;\n",
              "      --disabled-bg-color: #DDD;\n",
              "  }\n",
              "\n",
              "  [theme=dark] .colab-df-quickchart {\n",
              "      --bg-color: #3B4455;\n",
              "      --fill-color: #D2E3FC;\n",
              "      --hover-bg-color: #434B5C;\n",
              "      --hover-fill-color: #FFFFFF;\n",
              "      --disabled-bg-color: #3B4455;\n",
              "      --disabled-fill-color: #666;\n",
              "  }\n",
              "\n",
              "  .colab-df-quickchart {\n",
              "    background-color: var(--bg-color);\n",
              "    border: none;\n",
              "    border-radius: 50%;\n",
              "    cursor: pointer;\n",
              "    display: none;\n",
              "    fill: var(--fill-color);\n",
              "    height: 32px;\n",
              "    padding: 0;\n",
              "    width: 32px;\n",
              "  }\n",
              "\n",
              "  .colab-df-quickchart:hover {\n",
              "    background-color: var(--hover-bg-color);\n",
              "    box-shadow: 0 1px 2px rgba(60, 64, 67, 0.3), 0 1px 3px 1px rgba(60, 64, 67, 0.15);\n",
              "    fill: var(--button-hover-fill-color);\n",
              "  }\n",
              "\n",
              "  .colab-df-quickchart-complete:disabled,\n",
              "  .colab-df-quickchart-complete:disabled:hover {\n",
              "    background-color: var(--disabled-bg-color);\n",
              "    fill: var(--disabled-fill-color);\n",
              "    box-shadow: none;\n",
              "  }\n",
              "\n",
              "  .colab-df-spinner {\n",
              "    border: 2px solid var(--fill-color);\n",
              "    border-color: transparent;\n",
              "    border-bottom-color: var(--fill-color);\n",
              "    animation:\n",
              "      spin 1s steps(1) infinite;\n",
              "  }\n",
              "\n",
              "  @keyframes spin {\n",
              "    0% {\n",
              "      border-color: transparent;\n",
              "      border-bottom-color: var(--fill-color);\n",
              "      border-left-color: var(--fill-color);\n",
              "    }\n",
              "    20% {\n",
              "      border-color: transparent;\n",
              "      border-left-color: var(--fill-color);\n",
              "      border-top-color: var(--fill-color);\n",
              "    }\n",
              "    30% {\n",
              "      border-color: transparent;\n",
              "      border-left-color: var(--fill-color);\n",
              "      border-top-color: var(--fill-color);\n",
              "      border-right-color: var(--fill-color);\n",
              "    }\n",
              "    40% {\n",
              "      border-color: transparent;\n",
              "      border-right-color: var(--fill-color);\n",
              "      border-top-color: var(--fill-color);\n",
              "    }\n",
              "    60% {\n",
              "      border-color: transparent;\n",
              "      border-right-color: var(--fill-color);\n",
              "    }\n",
              "    80% {\n",
              "      border-color: transparent;\n",
              "      border-right-color: var(--fill-color);\n",
              "      border-bottom-color: var(--fill-color);\n",
              "    }\n",
              "    90% {\n",
              "      border-color: transparent;\n",
              "      border-bottom-color: var(--fill-color);\n",
              "    }\n",
              "  }\n",
              "</style>\n",
              "\n",
              "      <script>\n",
              "        async function quickchart(key) {\n",
              "          const quickchartButtonEl =\n",
              "            document.querySelector('#' + key + ' button');\n",
              "          quickchartButtonEl.disabled = true;  // To prevent multiple clicks.\n",
              "          quickchartButtonEl.classList.add('colab-df-spinner');\n",
              "          try {\n",
              "            const charts = await google.colab.kernel.invokeFunction(\n",
              "                'suggestCharts', [key], {});\n",
              "          } catch (error) {\n",
              "            console.error('Error during call to suggestCharts:', error);\n",
              "          }\n",
              "          quickchartButtonEl.classList.remove('colab-df-spinner');\n",
              "          quickchartButtonEl.classList.add('colab-df-quickchart-complete');\n",
              "        }\n",
              "        (() => {\n",
              "          let quickchartButtonEl =\n",
              "            document.querySelector('#df-bf464840-f1da-427d-89ce-fa6f09aa1c88 button');\n",
              "          quickchartButtonEl.style.display =\n",
              "            google.colab.kernel.accessAllowed ? 'block' : 'none';\n",
              "        })();\n",
              "      </script>\n",
              "    </div>\n",
              "\n",
              "  <div id=\"id_29b7d827-36c2-48a0-a920-d3cc990b0082\">\n",
              "    <style>\n",
              "      .colab-df-generate {\n",
              "        background-color: #E8F0FE;\n",
              "        border: none;\n",
              "        border-radius: 50%;\n",
              "        cursor: pointer;\n",
              "        display: none;\n",
              "        fill: #1967D2;\n",
              "        height: 32px;\n",
              "        padding: 0 0 0 0;\n",
              "        width: 32px;\n",
              "      }\n",
              "\n",
              "      .colab-df-generate:hover {\n",
              "        background-color: #E2EBFA;\n",
              "        box-shadow: 0px 1px 2px rgba(60, 64, 67, 0.3), 0px 1px 3px 1px rgba(60, 64, 67, 0.15);\n",
              "        fill: #174EA6;\n",
              "      }\n",
              "\n",
              "      [theme=dark] .colab-df-generate {\n",
              "        background-color: #3B4455;\n",
              "        fill: #D2E3FC;\n",
              "      }\n",
              "\n",
              "      [theme=dark] .colab-df-generate:hover {\n",
              "        background-color: #434B5C;\n",
              "        box-shadow: 0px 1px 3px 1px rgba(0, 0, 0, 0.15);\n",
              "        filter: drop-shadow(0px 1px 2px rgba(0, 0, 0, 0.3));\n",
              "        fill: #FFFFFF;\n",
              "      }\n",
              "    </style>\n",
              "    <button class=\"colab-df-generate\" onclick=\"generateWithVariable('result')\"\n",
              "            title=\"Generate code using this dataframe.\"\n",
              "            style=\"display:none;\">\n",
              "\n",
              "  <svg xmlns=\"http://www.w3.org/2000/svg\" height=\"24px\"viewBox=\"0 0 24 24\"\n",
              "       width=\"24px\">\n",
              "    <path d=\"M7,19H8.4L18.45,9,17,7.55,7,17.6ZM5,21V16.75L18.45,3.32a2,2,0,0,1,2.83,0l1.4,1.43a1.91,1.91,0,0,1,.58,1.4,1.91,1.91,0,0,1-.58,1.4L9.25,21ZM18.45,9,17,7.55Zm-12,3A5.31,5.31,0,0,0,4.9,8.1,5.31,5.31,0,0,0,1,6.5,5.31,5.31,0,0,0,4.9,4.9,5.31,5.31,0,0,0,6.5,1,5.31,5.31,0,0,0,8.1,4.9,5.31,5.31,0,0,0,12,6.5,5.46,5.46,0,0,0,6.5,12Z\"/>\n",
              "  </svg>\n",
              "    </button>\n",
              "    <script>\n",
              "      (() => {\n",
              "      const buttonEl =\n",
              "        document.querySelector('#id_29b7d827-36c2-48a0-a920-d3cc990b0082 button.colab-df-generate');\n",
              "      buttonEl.style.display =\n",
              "        google.colab.kernel.accessAllowed ? 'block' : 'none';\n",
              "\n",
              "      buttonEl.onclick = () => {\n",
              "        google.colab.notebook.generateWithVariable('result');\n",
              "      }\n",
              "      })();\n",
              "    </script>\n",
              "  </div>\n",
              "\n",
              "    </div>\n",
              "  </div>\n"
            ],
            "application/vnd.google.colaboratory.intrinsic+json": {
              "type": "dataframe",
              "variable_name": "result",
              "summary": "{\n  \"name\": \"result\",\n  \"rows\": 20000,\n  \"fields\": [\n    {\n      \"column\": \"approximated_class_label\",\n      \"properties\": {\n        \"dtype\": \"number\",\n        \"std\": 108,\n        \"min\": 1,\n        \"max\": 438,\n        \"num_unique_values\": 438,\n        \"samples\": [\n          365,\n          79,\n          279\n        ],\n        \"semantic_type\": \"\",\n        \"description\": \"\"\n      }\n    },\n    {\n      \"column\": \"variant_001\",\n      \"properties\": {\n        \"dtype\": \"category\",\n        \"num_unique_values\": 241,\n        \"samples\": [\n          \"ba0aaafbf9654d28c665f9278d779f8d\",\n          \"8c5b55ddfcca0799183c56484601d95c\",\n          \"339a7512f3a02a6c11adec799b2e1088\"\n        ],\n        \"semantic_type\": \"\",\n        \"description\": \"\"\n      }\n    },\n    {\n      \"column\": \"variant_002\",\n      \"properties\": {\n        \"dtype\": \"category\",\n        \"num_unique_values\": 425,\n        \"samples\": [\n          \"75df8c9d305397cf800d61b14b34c4d0\",\n          \"37d55e97288246500d4ac78861db96cb\",\n          \"caaf4597425918705ff742b2476ca094\"\n        ],\n        \"semantic_type\": \"\",\n        \"description\": \"\"\n      }\n    },\n    {\n      \"column\": \"variant_003\",\n      \"properties\": {\n        \"dtype\": \"category\",\n        \"num_unique_values\": 438,\n        \"samples\": [\n          \"233ec7a7d76c5eb51aa4e949f0200583\",\n          \"639ae561a1e639bc068b9b58fe1c4218\",\n          \"84ad2c11d44b7b1296357eaa1f3bd83e\"\n        ],\n        \"semantic_type\": \"\",\n        \"description\": \"\"\n      }\n    },\n    {\n      \"column\": \"variant_004\",\n      \"properties\": {\n        \"dtype\": \"category\",\n        \"num_unique_values\": 431,\n        \"samples\": [\n          \"070d858b46a73d25e52bd6b2aded491b\",\n          \"351940584a2f42b242965386c1833133\",\n          \"a1bbf5de5011c3298375000bb22e4e57\"\n        ],\n        \"semantic_type\": \"\",\n        \"description\": \"\"\n      }\n    },\n    {\n      \"column\": \"variant_005\",\n      \"properties\": {\n        \"dtype\": \"string\",\n        \"num_unique_values\": 16706,\n        \"samples\": [\n          \"1184e30d635f9fabc2c39de30a53c5d3\",\n          \"91b1d98a066a26ce67092bf69093a146\",\n          \"a37ad8df88b64074a3bc4173dd474264\"\n        ],\n        \"semantic_type\": \"\",\n        \"description\": \"\"\n      }\n    }\n  ]\n}"
            }
          },
          "metadata": {}
        }
      ]
    },
    {
      "cell_type": "markdown",
      "source": [
        "## 2. Unique Counts"
      ],
      "metadata": {
        "id": "cFOyxh7HY8iR"
      }
    },
    {
      "cell_type": "markdown",
      "source": [
        "2. Unique Counts\n",
        "*   Highest unique counts: variant_005\n",
        "*   Lowest unique counts: variant_001\n",
        "---   \n",
        "\n",
        "*   variant_001: 241\n",
        "*   variant_002: 425\n",
        "*   variant_003: 438\n",
        "*   variant_004: 431\n",
        "*   variant_005: 16706\n",
        "\n",
        "\n"
      ],
      "metadata": {
        "id": "8StanAmHL0uY"
      }
    },
    {
      "cell_type": "code",
      "source": [
        "#unique counts\n",
        "#interestingly, the approximated_class_label is mapped unique_variant_003 to be discussed later\n",
        "#COUNT(DISTINCT approximated_class_label) AS unique_approximated_class_label,\n",
        "\n",
        "query = \"\"\"\n",
        "SELECT\n",
        "  COUNT(DISTINCT variant_001) AS unique_variant_001,\n",
        "  COUNT(DISTINCT variant_002) AS unique_variant_002,\n",
        "  COUNT(DISTINCT variant_003) AS unique_variant_003,\n",
        "  COUNT(DISTINCT variant_004) AS unique_variant_004,\n",
        "  COUNT(DISTINCT variant_005) AS unique_variant_005\n",
        "FROM variants_data;\n",
        "\"\"\"\n",
        "\n",
        "result_df = pd.read_sql(query, conn)\n",
        "print(result_df)"
      ],
      "metadata": {
        "colab": {
          "base_uri": "https://localhost:8080/"
        },
        "id": "op_Tx8Rhkjri",
        "outputId": "7198c74d-5459-40bb-a9a4-fe9d9b778a99"
      },
      "execution_count": 6,
      "outputs": [
        {
          "output_type": "stream",
          "name": "stdout",
          "text": [
            "   unique_variant_001  unique_variant_002  unique_variant_003  \\\n",
            "0                 241                 425                 438   \n",
            "\n",
            "   unique_variant_004  unique_variant_005  \n",
            "0                 431               16706  \n"
          ]
        }
      ]
    },
    {
      "cell_type": "markdown",
      "source": [
        "## 3. One-to-One Mapping Analysis"
      ],
      "metadata": {
        "id": "7LY8Fu6iZK9x"
      }
    },
    {
      "cell_type": "markdown",
      "source": [
        "3. One-to-One Mapping Analysis\n",
        "\n",
        "the ideal for one to one mapping would be to do a nested groupby for example a subquery to identify the unique variant A and unique variant B first and then group by between them to identify just how many unique pairs there are.\n",
        "\n",
        "1-to-1 mappings unique counts\n",
        "\n",
        "\n",
        "*   variant_001 vs variant_002 -> 1\n",
        "*   variant_001 vs variant_003 -> 1\n",
        "*   variant_001 vs variant_004 -> 1\n",
        "*   variant_001 vs variant_005 -> 1\n",
        "*   variant_002 vs variant_003 -> 7\n",
        "*   variant_002 vs variant_004 -> 6\n",
        "*   variant_002 vs variant_005 -> 9\n",
        "*   variant_003 vs variant_004 -> 6\n",
        "*   variant_003 vs variant_005 -> 7\n",
        "*   variant_004 vs variant_005 -> 6"
      ],
      "metadata": {
        "id": "M1TuytmUr11K"
      }
    },
    {
      "cell_type": "code",
      "source": [
        "query = \"\"\"\n",
        "SELECT variant_001, variant_002\n",
        "FROM variants_data\n",
        "WHERE variant_001 IN (\n",
        "    SELECT variant_001\n",
        "    FROM variants_data\n",
        "    GROUP BY variant_001\n",
        "    HAVING COUNT(*) = 1\n",
        ")\n",
        "AND variant_002 IN (\n",
        "    SELECT variant_002\n",
        "    FROM variants_data\n",
        "    GROUP BY variant_002\n",
        "    HAVING COUNT(*) = 1\n",
        ")\n",
        "GROUP BY variant_001, variant_002\n",
        "HAVING COUNT(*) = 1;\n",
        "\"\"\"\n",
        "result_df = pd.read_sql(query, conn)\n",
        "print(result_df)"
      ],
      "metadata": {
        "colab": {
          "base_uri": "https://localhost:8080/"
        },
        "id": "ykwE88fHkgvJ",
        "outputId": "f2a5f883-cd7b-4521-c2c2-fac94d329ce1"
      },
      "execution_count": 7,
      "outputs": [
        {
          "output_type": "stream",
          "name": "stdout",
          "text": [
            "                        variant_001                       variant_002\n",
            "0  e2cc48b434ded69e6b75d42d6295e2b4  7f739ce5fb87087bfa70153d02c8bd0e\n"
          ]
        }
      ]
    },
    {
      "cell_type": "code",
      "source": [
        "query = \"\"\"\n",
        "SELECT variant_001, variant_003\n",
        "FROM variants_data\n",
        "WHERE variant_001 IN (\n",
        "    SELECT variant_001\n",
        "    FROM variants_data\n",
        "    GROUP BY variant_001\n",
        "    HAVING COUNT(*) = 1\n",
        ")\n",
        "AND variant_003 IN (\n",
        "    SELECT variant_003\n",
        "    FROM variants_data\n",
        "    GROUP BY variant_003\n",
        "    HAVING COUNT(*) = 1\n",
        ")\n",
        "GROUP BY variant_001, variant_003\n",
        "HAVING COUNT(*) = 1;\n",
        "\"\"\"\n",
        "result_df = pd.read_sql(query, conn)\n",
        "print(result_df)"
      ],
      "metadata": {
        "colab": {
          "base_uri": "https://localhost:8080/"
        },
        "id": "SQGpWEk1mb48",
        "outputId": "64e620c0-c734-451b-d01a-eb66b38d535f"
      },
      "execution_count": 8,
      "outputs": [
        {
          "output_type": "stream",
          "name": "stdout",
          "text": [
            "                        variant_001                       variant_003\n",
            "0  e2cc48b434ded69e6b75d42d6295e2b4  6fec7e7534337d59fc78d36a6e509c9c\n"
          ]
        }
      ]
    },
    {
      "cell_type": "code",
      "source": [
        "query = \"\"\"\n",
        "SELECT variant_001, variant_004\n",
        "FROM variants_data\n",
        "WHERE variant_001 IN (\n",
        "    SELECT variant_001\n",
        "    FROM variants_data\n",
        "    GROUP BY variant_001\n",
        "    HAVING COUNT(*) = 1\n",
        ")\n",
        "AND variant_004 IN (\n",
        "    SELECT variant_004\n",
        "    FROM variants_data\n",
        "    GROUP BY variant_004\n",
        "    HAVING COUNT(*) = 1\n",
        ")\n",
        "GROUP BY variant_001, variant_004\n",
        "HAVING COUNT(*) = 1;\n",
        "\"\"\"\n",
        "result_df = pd.read_sql(query, conn)\n",
        "print(result_df)"
      ],
      "metadata": {
        "colab": {
          "base_uri": "https://localhost:8080/"
        },
        "id": "Vg0kRcVAymgM",
        "outputId": "20a2c092-6e24-411e-f3df-a3b745a00aba"
      },
      "execution_count": 9,
      "outputs": [
        {
          "output_type": "stream",
          "name": "stdout",
          "text": [
            "                        variant_001                       variant_004\n",
            "0  e2cc48b434ded69e6b75d42d6295e2b4  d52fc6f8aeb550a31abf06249fcd9a8b\n"
          ]
        }
      ]
    },
    {
      "cell_type": "code",
      "source": [
        "query = \"\"\"\n",
        "SELECT variant_001, variant_005\n",
        "FROM variants_data\n",
        "WHERE variant_001 IN (\n",
        "    SELECT variant_001\n",
        "    FROM variants_data\n",
        "    GROUP BY variant_001\n",
        "    HAVING COUNT(*) = 1\n",
        ")\n",
        "AND variant_005 IN (\n",
        "    SELECT variant_005\n",
        "    FROM variants_data\n",
        "    GROUP BY variant_005\n",
        "    HAVING COUNT(*) = 1\n",
        ")\n",
        "GROUP BY variant_001, variant_005\n",
        "HAVING COUNT(*) = 1;\n",
        "\"\"\"\n",
        "result_df = pd.read_sql(query, conn)\n",
        "print(result_df)"
      ],
      "metadata": {
        "colab": {
          "base_uri": "https://localhost:8080/"
        },
        "id": "2VoRDB7DyqzU",
        "outputId": "56c4d5fd-d4f4-4964-f2c7-795ea865b39d"
      },
      "execution_count": 10,
      "outputs": [
        {
          "output_type": "stream",
          "name": "stdout",
          "text": [
            "                        variant_001                       variant_005\n",
            "0  e2cc48b434ded69e6b75d42d6295e2b4  ef56f8d00dc7eb9e65b3bf2c1c40e365\n"
          ]
        }
      ]
    },
    {
      "cell_type": "code",
      "source": [
        "query = \"\"\"\n",
        "SELECT variant_002, variant_003\n",
        "FROM variants_data\n",
        "WHERE variant_002 IN (\n",
        "    SELECT variant_002\n",
        "    FROM variants_data\n",
        "    GROUP BY variant_002\n",
        "    HAVING COUNT(*) = 1\n",
        ")\n",
        "AND variant_003 IN (\n",
        "    SELECT variant_003\n",
        "    FROM variants_data\n",
        "    GROUP BY variant_003\n",
        "    HAVING COUNT(*) = 1\n",
        ")\n",
        "GROUP BY variant_002, variant_003\n",
        "HAVING COUNT(*) = 1;\n",
        "\"\"\"\n",
        "result_df = pd.read_sql(query, conn)\n",
        "print(result_df)"
      ],
      "metadata": {
        "colab": {
          "base_uri": "https://localhost:8080/"
        },
        "id": "6guw2dH9yx1q",
        "outputId": "b71a5bdf-237e-4565-c505-80e899ca6358"
      },
      "execution_count": 11,
      "outputs": [
        {
          "output_type": "stream",
          "name": "stdout",
          "text": [
            "                        variant_002                       variant_003\n",
            "0  4d935978e6b84e93230c96c8ca8ed6d1  b81f33921051efa4ba7f4228967bc509\n",
            "1  6176558def7a6e5ec33ffdad1524df04  5f52a1222f3eb67707e0f2fdf671eefd\n",
            "2  7f739ce5fb87087bfa70153d02c8bd0e  6fec7e7534337d59fc78d36a6e509c9c\n",
            "3  c24ad4baf5ea8f509ed23f95a1f09cd2  5c91bf49fb2608187a77601c38a1bcbb\n",
            "4  d002cef3c120fbd388b656dd062cfeb2  7838d07accee40c1816a8260c2500ecb\n",
            "5  ebd87f5099d1bc8ee8ee1f18eabd0c9b  019faa5efb06afc3cb09d752638e4456\n",
            "6  ec76523d7a251096a166e76b92a52ffc  da835e93184b593af97775351540e4bc\n"
          ]
        }
      ]
    },
    {
      "cell_type": "code",
      "source": [
        "query = \"\"\"\n",
        "SELECT variant_002, variant_004\n",
        "FROM variants_data\n",
        "WHERE variant_002 IN (\n",
        "    SELECT variant_002\n",
        "    FROM variants_data\n",
        "    GROUP BY variant_002\n",
        "    HAVING COUNT(*) = 1\n",
        ")\n",
        "AND variant_004 IN (\n",
        "    SELECT variant_004\n",
        "    FROM variants_data\n",
        "    GROUP BY variant_004\n",
        "    HAVING COUNT(*) = 1\n",
        ")\n",
        "GROUP BY variant_002, variant_004\n",
        "HAVING COUNT(*) = 1;\n",
        "\"\"\"\n",
        "result_df = pd.read_sql(query, conn)\n",
        "print(result_df)"
      ],
      "metadata": {
        "colab": {
          "base_uri": "https://localhost:8080/"
        },
        "id": "65nHV1Wwy6am",
        "outputId": "02f9aba1-168c-4377-eac6-8c7075c26617"
      },
      "execution_count": 12,
      "outputs": [
        {
          "output_type": "stream",
          "name": "stdout",
          "text": [
            "                        variant_002                       variant_004\n",
            "0  4d935978e6b84e93230c96c8ca8ed6d1  d71f151c6a3dcc1cb5b653de0142cc93\n",
            "1  6176558def7a6e5ec33ffdad1524df04  9f07354eb04b87a32f84957d04ec6f44\n",
            "2  7f739ce5fb87087bfa70153d02c8bd0e  d52fc6f8aeb550a31abf06249fcd9a8b\n",
            "3  c24ad4baf5ea8f509ed23f95a1f09cd2  5a5aaf606bfe53bb116d52f0f95af0bd\n",
            "4  d002cef3c120fbd388b656dd062cfeb2  8e5d6ba387ac34db8b3dab78db2cb5d8\n",
            "5  ec76523d7a251096a166e76b92a52ffc  86175a8ec95b30c3e3f41a9fe884d309\n"
          ]
        }
      ]
    },
    {
      "cell_type": "markdown",
      "source": [],
      "metadata": {
        "id": "LsubWwJO0lz-"
      }
    },
    {
      "cell_type": "code",
      "source": [
        "query = \"\"\"\n",
        "SELECT variant_002, variant_005\n",
        "FROM variants_data\n",
        "WHERE variant_002 IN (\n",
        "    SELECT variant_002\n",
        "    FROM variants_data\n",
        "    GROUP BY variant_002\n",
        "    HAVING COUNT(*) = 1\n",
        ")\n",
        "AND variant_005 IN (\n",
        "    SELECT variant_005\n",
        "    FROM variants_data\n",
        "    GROUP BY variant_005\n",
        "    HAVING COUNT(*) = 1\n",
        ")\n",
        "GROUP BY variant_002, variant_005\n",
        "HAVING COUNT(*) = 1;\n",
        "\"\"\"\n",
        "result_df = pd.read_sql(query, conn)\n",
        "print(result_df)"
      ],
      "metadata": {
        "colab": {
          "base_uri": "https://localhost:8080/"
        },
        "id": "W3a2jo520uU1",
        "outputId": "98ca99c1-8fdc-470c-c122-66d497c934e9"
      },
      "execution_count": 13,
      "outputs": [
        {
          "output_type": "stream",
          "name": "stdout",
          "text": [
            "                        variant_002                       variant_005\n",
            "0  37a2231b70bed33fd9f1f779d1ad6ed3  8515758496f0c82045516ebcef3527a1\n",
            "1  4166a491e4daca3f719d0bc79647b55a  6d27269580144a2e3f6ca95fe7b5df04\n",
            "2  4d935978e6b84e93230c96c8ca8ed6d1  f6d59f5ebe253259ba34621fa3d9dd62\n",
            "3  6176558def7a6e5ec33ffdad1524df04  6a8cb2f2870f453e6599f9fa0e1bf1fe\n",
            "4  7f739ce5fb87087bfa70153d02c8bd0e  ef56f8d00dc7eb9e65b3bf2c1c40e365\n",
            "5  c24ad4baf5ea8f509ed23f95a1f09cd2  d8aa15b15b2ab150d6824dada3b1027b\n",
            "6  d002cef3c120fbd388b656dd062cfeb2  30ae8f456299d5e409d4ba289a1e9979\n",
            "7  ebd87f5099d1bc8ee8ee1f18eabd0c9b  fccf2da838de43aafa0654e4402c9c6a\n",
            "8  ec76523d7a251096a166e76b92a52ffc  f7de4a6c08351c9bd5bafefbf64130f0\n"
          ]
        }
      ]
    },
    {
      "cell_type": "code",
      "source": [
        "query = \"\"\"\n",
        "SELECT variant_003, variant_004\n",
        "FROM variants_data\n",
        "WHERE variant_003 IN (\n",
        "    SELECT variant_003\n",
        "    FROM variants_data\n",
        "    GROUP BY variant_003\n",
        "    HAVING COUNT(*) = 1\n",
        ")\n",
        "AND variant_004 IN (\n",
        "    SELECT variant_004\n",
        "    FROM variants_data\n",
        "    GROUP BY variant_004\n",
        "    HAVING COUNT(*) = 1\n",
        ")\n",
        "GROUP BY variant_003, variant_004\n",
        "HAVING COUNT(*) = 1;\n",
        "\"\"\"\n",
        "result_df = pd.read_sql(query, conn)\n",
        "print(result_df)"
      ],
      "metadata": {
        "colab": {
          "base_uri": "https://localhost:8080/"
        },
        "id": "Rsbd21-g0zJg",
        "outputId": "817c3e19-bfa1-4123-a9ba-79767af7a15a"
      },
      "execution_count": 14,
      "outputs": [
        {
          "output_type": "stream",
          "name": "stdout",
          "text": [
            "                        variant_003                       variant_004\n",
            "0  5c91bf49fb2608187a77601c38a1bcbb  5a5aaf606bfe53bb116d52f0f95af0bd\n",
            "1  5f52a1222f3eb67707e0f2fdf671eefd  9f07354eb04b87a32f84957d04ec6f44\n",
            "2  6fec7e7534337d59fc78d36a6e509c9c  d52fc6f8aeb550a31abf06249fcd9a8b\n",
            "3  7838d07accee40c1816a8260c2500ecb  8e5d6ba387ac34db8b3dab78db2cb5d8\n",
            "4  b81f33921051efa4ba7f4228967bc509  d71f151c6a3dcc1cb5b653de0142cc93\n",
            "5  da835e93184b593af97775351540e4bc  86175a8ec95b30c3e3f41a9fe884d309\n"
          ]
        }
      ]
    },
    {
      "cell_type": "code",
      "source": [
        "query = \"\"\"\n",
        "SELECT variant_003, variant_005\n",
        "FROM variants_data\n",
        "WHERE variant_003 IN (\n",
        "    SELECT variant_003\n",
        "    FROM variants_data\n",
        "    GROUP BY variant_003\n",
        "    HAVING COUNT(*) = 1\n",
        ")\n",
        "AND variant_005 IN (\n",
        "    SELECT variant_005\n",
        "    FROM variants_data\n",
        "    GROUP BY variant_005\n",
        "    HAVING COUNT(*) = 1\n",
        ")\n",
        "GROUP BY variant_003, variant_005\n",
        "HAVING COUNT(*) = 1;\n",
        "\"\"\"\n",
        "result_df = pd.read_sql(query, conn)\n",
        "print(result_df)"
      ],
      "metadata": {
        "colab": {
          "base_uri": "https://localhost:8080/"
        },
        "id": "tyCe2wDP0_Nv",
        "outputId": "f06977c1-7f66-4e21-d12c-67a432c33225"
      },
      "execution_count": 15,
      "outputs": [
        {
          "output_type": "stream",
          "name": "stdout",
          "text": [
            "                        variant_003                       variant_005\n",
            "0  019faa5efb06afc3cb09d752638e4456  fccf2da838de43aafa0654e4402c9c6a\n",
            "1  5c91bf49fb2608187a77601c38a1bcbb  d8aa15b15b2ab150d6824dada3b1027b\n",
            "2  5f52a1222f3eb67707e0f2fdf671eefd  6a8cb2f2870f453e6599f9fa0e1bf1fe\n",
            "3  6fec7e7534337d59fc78d36a6e509c9c  ef56f8d00dc7eb9e65b3bf2c1c40e365\n",
            "4  7838d07accee40c1816a8260c2500ecb  30ae8f456299d5e409d4ba289a1e9979\n",
            "5  b81f33921051efa4ba7f4228967bc509  f6d59f5ebe253259ba34621fa3d9dd62\n",
            "6  da835e93184b593af97775351540e4bc  f7de4a6c08351c9bd5bafefbf64130f0\n"
          ]
        }
      ]
    },
    {
      "cell_type": "code",
      "source": [
        "query = \"\"\"\n",
        "SELECT variant_004, variant_005\n",
        "FROM variants_data\n",
        "WHERE variant_004 IN (\n",
        "    SELECT variant_004\n",
        "    FROM variants_data\n",
        "    GROUP BY variant_004\n",
        "    HAVING COUNT(*) = 1\n",
        ")\n",
        "AND variant_005 IN (\n",
        "    SELECT variant_005\n",
        "    FROM variants_data\n",
        "    GROUP BY variant_005\n",
        "    HAVING COUNT(*) = 1\n",
        ")\n",
        "GROUP BY variant_004, variant_005\n",
        "HAVING COUNT(*) = 1;\n",
        "\"\"\"\n",
        "result_df = pd.read_sql(query, conn)\n",
        "print(result_df)"
      ],
      "metadata": {
        "colab": {
          "base_uri": "https://localhost:8080/"
        },
        "id": "3ltdo8eo0RZM",
        "outputId": "c7242fe9-8e0f-4576-f3c2-b78a1942c02d"
      },
      "execution_count": 16,
      "outputs": [
        {
          "output_type": "stream",
          "name": "stdout",
          "text": [
            "                        variant_004                       variant_005\n",
            "0  5a5aaf606bfe53bb116d52f0f95af0bd  d8aa15b15b2ab150d6824dada3b1027b\n",
            "1  86175a8ec95b30c3e3f41a9fe884d309  f7de4a6c08351c9bd5bafefbf64130f0\n",
            "2  8e5d6ba387ac34db8b3dab78db2cb5d8  30ae8f456299d5e409d4ba289a1e9979\n",
            "3  9f07354eb04b87a32f84957d04ec6f44  6a8cb2f2870f453e6599f9fa0e1bf1fe\n",
            "4  d52fc6f8aeb550a31abf06249fcd9a8b  ef56f8d00dc7eb9e65b3bf2c1c40e365\n",
            "5  d71f151c6a3dcc1cb5b653de0142cc93  f6d59f5ebe253259ba34621fa3d9dd62\n"
          ]
        }
      ]
    },
    {
      "cell_type": "markdown",
      "source": [
        "#Part 2: Analytical Thinking"
      ],
      "metadata": {
        "id": "3-6IEvyg1VtO"
      }
    },
    {
      "cell_type": "markdown",
      "source": [
        " # 1. Distint mapping between each variants"
      ],
      "metadata": {
        "id": "I77jLiCgZk3r"
      }
    },
    {
      "cell_type": "code",
      "source": [
        "def one_to_one_count(df, col1, col2):\n",
        "    merged = df[[col1, col2]].dropna()\n",
        "    group1 = merged.groupby(col1)[col2].nunique()\n",
        "    group2 = merged.groupby(col2)[col1].nunique()\n",
        "    return ((group1 == 1).sum(), (group2 == 1).sum())\n",
        "\n",
        "# Assuming your DataFrame is named 'df'\n",
        "\n",
        "# Select only the variant column names\n",
        "cols = [col for col in df.columns if col.startswith('variant_')]\n",
        "\n",
        "one_to_one_scores = {}\n",
        "\n",
        "for i in range(len(cols)):\n",
        "    for j in range(i + 1, len(cols)):\n",
        "        col1, col2 = cols[i], cols[j]\n",
        "        score = one_to_one_count(df, col1, col2)\n",
        "        one_to_one_scores[(col1, col2)] = score\n",
        "\n",
        "print(\"One-to-one mapping scores (Variant Pairs Only):\")\n",
        "for (col1, col2), score in one_to_one_scores.items():\n",
        "    print(f\"({col1}, {col2}): {score}\")"
      ],
      "metadata": {
        "colab": {
          "base_uri": "https://localhost:8080/"
        },
        "id": "vFbHPo9m46Ub",
        "outputId": "426a1b4d-d9df-48d8-cfd7-634530271ab0"
      },
      "execution_count": 21,
      "outputs": [
        {
          "output_type": "stream",
          "name": "stdout",
          "text": [
            "One-to-one mapping scores (Variant Pairs Only):\n",
            "(variant_001, variant_002): (np.int64(142), np.int64(424))\n",
            "(variant_001, variant_003): (np.int64(145), np.int64(438))\n",
            "(variant_001, variant_004): (np.int64(146), np.int64(431))\n",
            "(variant_001, variant_005): (np.int64(1), np.int64(16706))\n",
            "(variant_002, variant_003): (np.int64(422), np.int64(433))\n",
            "(variant_002, variant_004): (np.int64(424), np.int64(421))\n",
            "(variant_002, variant_005): (np.int64(10), np.int64(16706))\n",
            "(variant_003, variant_004): (np.int64(438), np.int64(424))\n",
            "(variant_003, variant_005): (np.int64(8), np.int64(16706))\n",
            "(variant_004, variant_005): (np.int64(7), np.int64(16706))\n"
          ]
        }
      ]
    },
    {
      "cell_type": "markdown",
      "source": [
        "What it means is that\n",
        "for example\n",
        "\n",
        "for variant_001 and variant_002\n",
        "*   142 unique variant_001 values map uniquely to a variant_002.\n",
        "*   424 unique variant_002 values map uniquely to a variant_001.\n",
        "\n",
        "for variant_003 and variant_004\n",
        "*   438 unique variant_003 values map uniquely to a variant_004.\n",
        "*   424 unique variant_004 values map uniquely to a variant_003.\n",
        "\n",
        "for variant_004 and variant_005\n",
        "*   7 unique variant_004 values map uniquely to a variant_005.\n",
        "*   16706 unique variant_005 values map uniquely to a variant_004.\n",
        "\n",
        "\n"
      ],
      "metadata": {
        "id": "cLcM5jDsauuU"
      }
    },
    {
      "cell_type": "markdown",
      "source": [
        "# 2. variant_5 having the highest count of uniques"
      ],
      "metadata": {
        "id": "mpqsjOCfcSnL"
      }
    },
    {
      "cell_type": "code",
      "source": [
        "import matplotlib.pyplot as plt\n",
        "import seaborn as sns\n",
        "\n",
        "variant_cols = [col for col in df.columns if col.startswith('variant_')]\n",
        "variant_unique_counts = df[[col for col in df.columns if col.startswith('variant_')]].nunique()\n",
        "\n",
        "plt.figure(figsize=(10, 6))\n",
        "sns.barplot(x=variant_unique_counts.index, y=variant_unique_counts.values)\n",
        "plt.title('Unique Counts per Variant Column')\n",
        "plt.xlabel('Variant Column')\n",
        "plt.ylabel('Number of Unique Values')\n",
        "plt.xticks(rotation=45, ha='right')\n",
        "plt.tight_layout()\n",
        "plt.show()"
      ],
      "metadata": {
        "colab": {
          "base_uri": "https://localhost:8080/",
          "height": 607
        },
        "id": "3SN41heVOsAg",
        "outputId": "61f4acce-60bf-4085-c313-cc8674e7d4ed"
      },
      "execution_count": 29,
      "outputs": [
        {
          "output_type": "display_data",
          "data": {
            "text/plain": [
              "<Figure size 1000x600 with 1 Axes>"
            ],
            "image/png": "[encoded data removed]"
          },
          "metadata": {}
        }
      ]
    },
    {
      "cell_type": "code",
      "source": [
        "# Get the list of variant columns (in order)\n",
        "cols = [col for col in df.columns if col.startswith('variant_')]\n",
        "n_cols = len(cols)\n",
        "\n",
        "# Create a matrix to store the heatmap data (for direction: row to column)\n",
        "heatmap_data_row_to_col = np.zeros((n_cols, n_cols))\n",
        "\n",
        "# Populate the matrix with the score from the row variant to the column variant\n",
        "for i in range(n_cols):\n",
        "    for j in range(n_cols):\n",
        "        if i != j: # Exclude the diagonal for pairwise scores\n",
        "            col1 = cols[i] # Row variant\n",
        "            col2 = cols[j] # Column variant\n",
        "\n",
        "            # Find the score for the pair (order matters here)\n",
        "            score = None\n",
        "            if (col1, col2) in one_to_one_scores:\n",
        "                score = one_to_one_scores[(col1, col2)][0] # Score from col1 to col2\n",
        "            elif (col2, col1) in one_to_one_scores:\n",
        "                 score = one_to_one_scores[(col2, col1)][1] # Score from col2 to col1\n",
        "\n",
        "            if score is not None:\n",
        "                 heatmap_data_row_to_col[i, j] = score\n",
        "        elif i == j:\n",
        "             # Optional: Put unique counts on the diagonal\n",
        "             if cols[i] in variant_unique_counts.index:\n",
        "                 heatmap_data_row_to_col[i, j] = variant_unique_counts[cols[i]]\n",
        "\n",
        "\n",
        "plt.figure(figsize=(8, 6))\n",
        "\n",
        "# Create the heatmap\n",
        "sns.heatmap(heatmap_data_row_to_col,\n",
        "            annot=True,     # Annotate cells with the score values\n",
        "            fmt=\".0f\",      # Format annotations as integers\n",
        "            cmap=\"YlGnBu\",  # Color map\n",
        "            xticklabels=cols, # Labels for x-axis\n",
        "            yticklabels=cols) # Labels for y-axis\n",
        "\n",
        "plt.title('One-to-One Mapping Scores (Row Variant to Column Variant)')\n",
        "plt.xlabel('Variant Column (To)')\n",
        "plt.ylabel('Variant Column (From)')\n",
        "plt.show()"
      ],
      "metadata": {
        "colab": {
          "base_uri": "https://localhost:8080/",
          "height": 564
        },
        "id": "u9dLyit5W43D",
        "outputId": "6e8ee97d-886d-477d-fca7-83b5febb21cf"
      },
      "execution_count": 41,
      "outputs": [
        {
          "output_type": "display_data",
          "data": {
            "text/plain": [
              "<Figure size 800x600 with 2 Axes>"
            ],
            "image/png": "[encoded data removed]"
          },
          "metadata": {}
        }
      ]
    },
    {
      "cell_type": "markdown",
      "source": [
        "# 3. Strength of variant-pair"
      ],
      "metadata": {
        "id": "vvURS65pcgra"
      }
    },
    {
      "cell_type": "code",
      "source": [
        "import matplotlib.pyplot as plt\n",
        "import numpy as np\n",
        "import pandas as pd\n",
        "\n",
        "# data from output\n",
        "data = {\n",
        "    ('variant_001', 'variant_002'): (142, 424),\n",
        "    ('variant_001', 'variant_003'): (145, 438),\n",
        "    ('variant_001', 'variant_004'): (146, 431),\n",
        "    ('variant_001', 'variant_005'): (1, 16706),\n",
        "    ('variant_002', 'variant_003'): (422, 433),\n",
        "    ('variant_002', 'variant_004'): (424, 421),\n",
        "    ('variant_002', 'variant_005'): (10, 16706),\n",
        "    ('variant_003', 'variant_004'): (438, 424),\n",
        "    ('variant_003', 'variant_005'): (8, 16706),\n",
        "    ('variant_004', 'variant_005'): (7, 16706),\n",
        "}\n",
        "\n",
        "# Convert to percentages and prepare DataFrame\n",
        "results = []\n",
        "for (col1, col2), (count1, count2) in data.items():\n",
        "    total = count1 + count2\n",
        "    results.append({\n",
        "        'Pair': f\"{col1}\\nvs\\n{col2}\",\n",
        "        'Variant 1 Unique %': count1 / total * 100,\n",
        "        'Variant 2 Unique %': count2 / total * 100,\n",
        "        'Variant 1 Count': count1,\n",
        "        'Variant 2 Count': count2\n",
        "    })\n",
        "\n",
        "df = pd.DataFrame(results)\n",
        "\n",
        "# Sort by Variant 1 percentage\n",
        "df = df.sort_values('Variant 1 Unique %', ascending=False)\n",
        "\n",
        "# Plotting\n",
        "plt.figure(figsize=(12, 8))\n",
        "bar_width = 0.35\n",
        "index = np.arange(len(df))\n",
        "\n",
        "# Create stacked bars\n",
        "bars1 = plt.barh(index, df['Variant 1 Unique %'], bar_width,\n",
        "                 color='#3498db', label='Variant 1 Unique')\n",
        "bars2 = plt.barh(index, df['Variant 2 Unique %'], bar_width,\n",
        "                 left=df['Variant 1 Unique %'],\n",
        "                 color='#e74c3c', label='Variant 2 Unique')\n",
        "\n",
        "# Add value labels\n",
        "for i, (val1, val2) in enumerate(zip(df['Variant 1 Unique %'], df['Variant 2 Unique %'])):\n",
        "    if val1 > 5:  # Only show label if there's enough space\n",
        "        plt.text(val1/2, i, f\"{val1:.1f}%\", ha='center', va='center', color='white')\n",
        "    if val2 > 5:\n",
        "        plt.text(val1 + val2/2, i, f\"{val2:.1f}%\", ha='center', va='center', color='white')\n",
        "\n",
        "# Add count labels at the end of each bar\n",
        "for i, (count1, count2) in enumerate(zip(df['Variant 1 Count'], df['Variant 2 Count'])):\n",
        "    plt.text(101, i, f\"({count1}, {count2})\", va='center')\n",
        "\n",
        "plt.yticks(index, df['Pair'])\n",
        "plt.xlabel('Percentage of Unique Mappings')\n",
        "plt.title('One-to-One Mapping Analysis Between Variant Pairs')\n",
        "plt.xlim(0, 110)  # Leave space for count labels\n",
        "plt.legend()\n",
        "plt.grid(axis='x', linestyle='--', alpha=0.7)\n",
        "\n",
        "plt.tight_layout()\n",
        "plt.show()"
      ],
      "metadata": {
        "colab": {
          "base_uri": "https://localhost:8080/",
          "height": 807
        },
        "id": "XgNsMW2ZUCG5",
        "outputId": "596ecd9a-dc4b-48a8-f82f-ef161d0b3d07"
      },
      "execution_count": 36,
      "outputs": [
        {
          "output_type": "display_data",
          "data": {
            "text/plain": [
              "<Figure size 1200x800 with 1 Axes>"
            ],
            "image/png": "[encoded data removed]"
          },
          "metadata": {}
        }
      ]
    },
    {
      "cell_type": "markdown",
      "source": [
        "shows variant_002, variant_003, variant_004 indicating a more symmetrical one-to-one relationship."
      ],
      "metadata": {
        "id": "kGTU_fgYnOdL"
      }
    },
    {
      "cell_type": "markdown",
      "source": [
        "things to know:\n",
        "approximated_class_label:\n",
        "This represents the best available class label (e.g.,\n",
        "unique user or device) and serves as the approximate ground truth. It is 90%\n",
        "accurate, meaning some degree of error exists. Use this field cautiously.\n"
      ],
      "metadata": {
        "id": "Jn7oXgNaCkJM"
      }
    },
    {
      "cell_type": "markdown",
      "source": [
        "# Confirming variant_003 is approximated_class_label\n"
      ],
      "metadata": {
        "id": "tRh8CGi3IqfK"
      }
    },
    {
      "cell_type": "markdown",
      "source": [],
      "metadata": {
        "id": "dqdumAZcCzuM"
      }
    },
    {
      "cell_type": "code",
      "source": [
        "#just curious and want to know how many unique approximated_class_label are there\n",
        "query = \"\"\"\n",
        "SELECT\n",
        "  COUNT(DISTINCT approximated_class_label) AS unique_approximated_class_label\n",
        "FROM variants_data;\n",
        "\"\"\"\n",
        "\n",
        "result_df = pd.read_sql(query, conn)\n",
        "print(result_df)"
      ],
      "metadata": {
        "colab": {
          "base_uri": "https://localhost:8080/"
        },
        "id": "ZpHVHvKqC6Wc",
        "outputId": "256d7d50-be72-458e-d55e-b2b593f0c80c"
      },
      "execution_count": 37,
      "outputs": [
        {
          "output_type": "stream",
          "name": "stdout",
          "text": [
            "   unique_approximated_class_label\n",
            "0                              438\n"
          ]
        }
      ]
    },
    {
      "cell_type": "code",
      "source": [
        "def one_to_one_count(df, col1, col2):\n",
        "    merged = df[[col1, col2]].dropna()\n",
        "    group1 = merged.groupby(col1)[col2].nunique()\n",
        "    group2 = merged.groupby(col2)[col1].nunique()\n",
        "    return ((group1 == 1).sum(), (group2 == 1).sum())\n",
        "\n",
        "# Assuming your DataFrame is named 'df'\n",
        "target_col = 'approximated_class_label'\n",
        "variant_cols = [col for col in df.columns if col.startswith('variant_')]\n",
        "\n",
        "approximated_one_to_one_scores = {}\n",
        "\n",
        "for variant_col in variant_cols:\n",
        "    score = one_to_one_count(df, target_col, variant_col)\n",
        "    approximated_one_to_one_scores[(target_col, variant_col)] = score\n",
        "\n",
        "print(f\"One-to-one mapping scores with {target_col}:\")\n",
        "for (col1, col2), score in approximated_one_to_one_scores.items():\n",
        "    print(f\"({col1}, {col2}): {score}\")"
      ],
      "metadata": {
        "colab": {
          "base_uri": "https://localhost:8080/"
        },
        "id": "tSBrDjgWDN0S",
        "outputId": "652f1ab2-eb97-4cf6-c6c4-0588bb8d8922"
      },
      "execution_count": 38,
      "outputs": [
        {
          "output_type": "stream",
          "name": "stdout",
          "text": [
            "One-to-one mapping scores with approximated_class_label:\n",
            "(approximated_class_label, variant_001): (np.int64(438), np.int64(145))\n",
            "(approximated_class_label, variant_002): (np.int64(433), np.int64(422))\n",
            "(approximated_class_label, variant_003): (np.int64(438), np.int64(438))\n",
            "(approximated_class_label, variant_004): (np.int64(438), np.int64(424))\n",
            "(approximated_class_label, variant_005): (np.int64(8), np.int64(16706))\n"
          ]
        }
      ]
    },
    {
      "cell_type": "code",
      "source": [
        "selected_columns_df = df[['approximated_class_label', 'variant_003']]\n",
        "print(selected_columns_df.head())"
      ],
      "metadata": {
        "colab": {
          "base_uri": "https://localhost:8080/"
        },
        "id": "sOfHpZoPD9bf",
        "outputId": "bae02eff-6cff-4755-f50a-4cf6e6e44138"
      },
      "execution_count": 39,
      "outputs": [
        {
          "output_type": "stream",
          "name": "stdout",
          "text": [
            "   approximated_class_label                       variant_003\n",
            "0                         1  c3a9d3629a8a5d86ad3d793cb3880697\n",
            "1                         2  409b77f91d88b045105704377db1fe80\n",
            "2                         3  ffb3cfbc3a442f69ddd7359343515d9f\n",
            "3                         4  ae24786bc2e2a5f7a251c1c17fdf1984\n",
            "4                         5  90ccd7cb90ec0d0eaf0c3c46c0d367ae\n"
          ]
        }
      ]
    },
    {
      "cell_type": "code",
      "source": [
        "df['combined_label_variant003'] = df['approximated_class_label'].astype(str) + '_' + df['variant_003'].astype(str)\n",
        "print(df[['approximated_class_label', 'variant_003', 'combined_label_variant003']].head())"
      ],
      "metadata": {
        "colab": {
          "base_uri": "https://localhost:8080/"
        },
        "id": "nkAzDv4kFhy1",
        "outputId": "0d33dc71-d36b-42ce-9c27-1037691d04e7"
      },
      "execution_count": 40,
      "outputs": [
        {
          "output_type": "stream",
          "name": "stdout",
          "text": [
            "   approximated_class_label                       variant_003  \\\n",
            "0                         1  c3a9d3629a8a5d86ad3d793cb3880697   \n",
            "1                         2  409b77f91d88b045105704377db1fe80   \n",
            "2                         3  ffb3cfbc3a442f69ddd7359343515d9f   \n",
            "3                         4  ae24786bc2e2a5f7a251c1c17fdf1984   \n",
            "4                         5  90ccd7cb90ec0d0eaf0c3c46c0d367ae   \n",
            "\n",
            "            combined_label_variant003  \n",
            "0  1_c3a9d3629a8a5d86ad3d793cb3880697  \n",
            "1  2_409b77f91d88b045105704377db1fe80  \n",
            "2  3_ffb3cfbc3a442f69ddd7359343515d9f  \n",
            "3  4_ae24786bc2e2a5f7a251c1c17fdf1984  \n",
            "4  5_90ccd7cb90ec0d0eaf0c3c46c0d367ae  \n"
          ]
        }
      ]
    },
    {
      "cell_type": "code",
      "source": [
        "#just to verify that approximated_class_label is actually variant_003\n",
        "unique_combined_count = df['combined_label_variant003'].nunique()\n",
        "\n",
        "print(f\"\\nNumber of unique combined values ('approximated_class_label_variant_003'): {unique_combined_count}\")"
      ],
      "metadata": {
        "colab": {
          "base_uri": "https://localhost:8080/"
        },
        "id": "OBoSIZmUFp6u",
        "outputId": "8809bcdc-3aaf-4b83-aee1-03160df57a0c"
      },
      "execution_count": 43,
      "outputs": [
        {
          "output_type": "stream",
          "name": "stdout",
          "text": [
            "\n",
            "Number of unique combined values ('approximated_class_label_variant_003'): 438\n"
          ]
        }
      ]
    },
    {
      "cell_type": "markdown",
      "source": [
        "This just indicates that approximated_class_label is variant_003 as the mapping is exactly one is to one"
      ],
      "metadata": {
        "id": "pv-y1j-Wc8Ck"
      }
    },
    {
      "cell_type": "markdown",
      "source": [
        "# 5. Conclusion\n"
      ],
      "metadata": {
        "id": "9hEI6UT8d1Xq"
      }
    },
    {
      "cell_type": "markdown",
      "source": [
        "# Variant Analysis Report: Identifying the Best Persistent Device Identifier\n",
        "\n",
        "##  Unique Variants Count Overview\n",
        "\n",
        "| Variant     | Unique Count |\n",
        "|-------------|-------------:|\n",
        "| variant_001 |         241  |\n",
        "| variant_002 |         425  |\n",
        "| variant_003 |         438  |\n",
        "| variant_004 |         431  |\n",
        "| variant_005 |      16,706  |\n",
        "\n",
        "\n",
        "### One-to-One Mapping Scores\n",
        "\n",
        "```python\n",
        "(variant_001, variant_002): (142, 424)\n",
        "(variant_001, variant_003): (145, 438)\n",
        "(variant_001, variant_004): (146, 431)\n",
        "(variant_001, variant_005): (1, 16706)\n",
        "(variant_002, variant_003): (422, 433)\n",
        "(variant_002, variant_004): (424, 421)\n",
        "(variant_002, variant_005): (10, 16706)\n",
        "(variant_003, variant_004): (438, 424)\n",
        "(variant_003, variant_005): (8, 16706)\n",
        "(variant_004, variant_005): (7, 16706)\n",
        "\n",
        "```\n",
        "\n",
        "\n",
        "The conclusion would have been to use variant_005 as the primary persistent device identifier as it has the most unique counts. Theres a very high score of unique counts of 16706, however if it were to mapped in reverse, it shows a very low unique count. This means while almost every unique variant_005 value is uniquely paired with values in other variants, most unique values in other variants are not uniquely paired with a variant_005 value. variant_005 is highly unique but doesn't have a symmetrical one-to-one relationship with the others. which means a more balance and high unique count between both variants would be the target as a primary identifier. As shown from the strength of variant-pair which indicates variant_002, variant_003, and variant_004 having a more symmetrical one-to-one relationship indicating a stronger identifier than variant_005.\n",
        "\n",
        "If i can explain in an analogy, it would be assuming each of the variants like books in a library variant_001 would be using bar code which may be outdated but get things done although not as effective as a shelf code.\n",
        "\n",
        "variant_003 is a shelf code which variant_005 is like a genetic code of the bar whereby it has information on the size, the pages, quality of the book.\n",
        "\n",
        "So naturally variant_005 has alot of different permutation (16706) but that also means its hard as a primary identifier to zoom down straight to it as there just too much attributes. Like a little tear or quality drop may affect the identifier as compared to variant_003 which shows books of that genre would be at that shelf etc.\n",
        "\n",
        "variant_002 and variant_004 are almost as similar as variant_003 in terms of the unique and balances except variant_003 has a higher unique mapping\n",
        "\n",
        "Hence variant_003 is better suit as primary persistent device identifier. which could even be concluded as the approximated_class_label share an identical resemblance to variant_003"
      ],
      "metadata": {
        "id": "ccCw5m3podxl"
      }
    }
  ]
}